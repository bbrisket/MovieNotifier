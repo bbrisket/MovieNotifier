{
 "cells": [
  {
   "cell_type": "code",
   "execution_count": 1,
   "metadata": {},
   "outputs": [
    {
     "name": "stdout",
     "output_type": "stream",
     "text": [
      "Looking for a good movie to watch on the weekend? Try Glass (2019)!\n",
      "IMDb:7.7 based on 3,180 user ratings\n",
      "Description:\n",
      "    Security guard David Dunn uses his supernatural abilities to track Kevin Wendell Crumb, a disturbed man who has twenty-four personalities.                    \n"
     ]
    }
   ],
   "source": [
    "from bs4 import BeautifulSoup\n",
    "import requests\n",
    "from PIL import Image\n",
    "from twilio.rest import Client\n",
    "\n",
    "page = requests.get(\"https://www.imdb.com/movies-in-theaters/\")\n",
    "soup = BeautifulSoup(page.content)\n",
    "movie_list = soup.find('div', class_='list detail sub-list') #get list of upcoming movies\n",
    "\n",
    "def getRating(title_link): #locate and retrieve IMDb audience rating, given movie website link\n",
    "    moviepage = requests.get(\"https://www.imdb.com\" + title_link)\n",
    "    msoup = BeautifulSoup(moviepage.content)\n",
    "    rating = msoup.find('div', class_='ratingValue').strong['title']\n",
    "    return(rating)\n",
    "\n",
    "class Movie: #contains all relevant information for an individual movie\n",
    "    def __init__(self, title, overview, rating, posterURL):\n",
    "        self.title = title\n",
    "        self.overview = overview\n",
    "        self.rating = rating\n",
    "        self.posterURL = posterURL\n",
    "        \n",
    "    def __str__(self):\n",
    "        return(self.title.ljust(28) + self.rating.ljust(35))\n",
    "    \n",
    "    def advertise(self):\n",
    "        string = \"Looking for a good movie to watch on the weekend? Try\" + self.title + \"!\\nIMDb:\" \\\n",
    "                    + self.rating + \"\\nDescription:\" + self.overview\n",
    "        return string\n",
    "        \n",
    "class MovieList: #stores list of Movie objects\n",
    "    def __init__(self, date):\n",
    "        self.list = []\n",
    "        self.date = date\n",
    "        \n",
    "    def __str__(self):\n",
    "        string = (\" \"+self.date).center(60, '-') + \"\\n\"\n",
    "        for movie in self.list:\n",
    "            string += str(movie) + \"\\n\"\n",
    "        return string\n",
    "        \n",
    "    def addMovie(self, movie):\n",
    "        self.list.append(movie)\n",
    "        \n",
    "    def getBestRated(self):\n",
    "        bestMovie = None\n",
    "        bestRating = 0\n",
    "        for movie in self.list:\n",
    "            rating = float(movie.rating[:3]) #ratings are stored as strings in the form \"X.X based on XXX user ratings\"\n",
    "            if rating > bestRating:\n",
    "                bestMovie = movie\n",
    "                bestRating = rating\n",
    "        return bestMovie\n",
    "        \n",
    "    def sortByRating(self): #sort movies from highest-rated to lowest-rated\n",
    "        sortedList = sorted(self.list, key = lambda x: float(x.rating[:3]), reverse=True)\n",
    "        self.list = sortedList\n",
    "        return self\n",
    "        \n",
    "upcomingMovies = MovieList(movie_list.h3.string) #initialize movie list using the date of release\n",
    "\n",
    "for movie in movie_list.find_all('div'):\n",
    "    if 'list_item' in movie['class']:\n",
    "        movie_info = movie.find('td', class_='overview-top') #retrieve all information from this bad boy\n",
    "        movie_title = movie_info.find('a').string\n",
    "        movie_overview = movie_info.find('div', class_='outline').string\n",
    "        title_link = movie_info.find('a')['href']\n",
    "        movie_rating = getRating(title_link)\n",
    "        \n",
    "        poster_info = movie.find('td', id='img_primary')\n",
    "        poster_link = poster_info.find('img')['src'] #get image url for movie poster\n",
    "\n",
    "        upcomingMovies.addMovie(Movie(movie_title, movie_overview, movie_rating, poster_link))\n",
    "        \n",
    "print(upcomingMovies.getBestRated().advertise())"
   ]
  },
  {
   "cell_type": "code",
   "execution_count": null,
   "metadata": {},
   "outputs": [],
   "source": [
    "#Create free trial Twilio account to send SMS text message\n",
    "client = Client(\"AC3533d6c757d019aa687d500e26398811\", #Account SID\n",
    "                \"f2a4597dc5209ddb78b6911033e20afb\")   #Auth Token\n",
    "\n",
    "bestRatedMovie = upcomingMovies.getBestRated()\n",
    "client.messages.create(to=\"+15623217824\",    #Your phone number\n",
    "                       from_=\"+16573151159\", #Account phone number\n",
    "                       body=bestRatedMovie.advertise(),     #Send blurb about highest rated movie coming out soon\n",
    "                       media_url=bestRatedMovie.posterURL)  #Send movie poster image\n",
    "\n",
    "https://github.com/brendanbrzycki/MovieGuide.git"
   ]
  },
  {
   "cell_type": "code",
   "execution_count": null,
   "metadata": {},
   "outputs": [],
   "source": [
    "#Create free trial Twilio account to send SMS text message\n",
    "client = Client(\"XXXXXXXXXXXXXXXXXXXXXXXXXXXXXXXX\", #Account SID\n",
    "                \"XXXXXXXXXXXXXXXXXXXXXXXXXXXXXXXX\")   #Auth Token\n",
    "\n",
    "bestRatedMovie = upcomingMovies.getBestRated()\n",
    "client.messages.create(to=\"+XXXXXXXXXXX\",    #Your phone number\n",
    "                       from_=\"+XXXXXXXXXXX\", #Account phone number\n",
    "                       body=bestRatedMovie.advertise(),     #Send blurb about highest rated movie coming out soon\n",
    "                       media_url=bestRatedMovie.posterURL)  #Send movie poster image"
   ]
  }
 ],
 "metadata": {
  "kernelspec": {
   "display_name": "Python 3",
   "language": "python",
   "name": "python3"
  },
  "language_info": {
   "codemirror_mode": {
    "name": "ipython",
    "version": 3
   },
   "file_extension": ".py",
   "mimetype": "text/x-python",
   "name": "python",
   "nbconvert_exporter": "python",
   "pygments_lexer": "ipython3",
   "version": "3.7.2"
  }
 },
 "nbformat": 4,
 "nbformat_minor": 2
}
